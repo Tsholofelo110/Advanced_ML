{
 "cells": [
  {
   "cell_type": "code",
   "execution_count": 39,
   "metadata": {},
   "outputs": [],
   "source": [
    "import numpy as np\n",
    "import pandas as pd\n",
    "import matplotlib.pyplot as plt\n",
    "import random"
   ]
  },
  {
   "cell_type": "code",
   "execution_count": 11,
   "metadata": {},
   "outputs": [],
   "source": [
    "#1.1\n",
    "def matrix(x):\n",
    "    n=len(x)\n",
    "    m=np.c_[np.ones(n),x,x**2 ,x**3,x**4,x**5,x**6]\n",
    "    return(m)"
   ]
  },
  {
   "cell_type": "code",
   "execution_count": 20,
   "metadata": {},
   "outputs": [],
   "source": [
    "#1.2\n",
    "def R2(m,λ,y):\n",
    "    I=np.eye(7)\n",
    "    I[0,0]=0\n",
    "    theta= np.linalg.inv(X.T.dot(X)+ λ*I).dot(X.T).dot(y)\n",
    "    return (theta)\n",
    "      "
   ]
  },
  {
   "cell_type": "code",
   "execution_count": 14,
   "metadata": {},
   "outputs": [],
   "source": [
    "#1.3.1\n",
    "n=200\n",
    "random.seed(123)\n",
    "\n",
    "x=np.random.uniform(0, 300, n)\n",
    "x=x[np.argsort(x)]\n",
    "y_true=5+ x**1 + x**2 + x**3\n",
    "\n",
    "random.seed(123)\n",
    "y_obs=y_true +np.random.normal(0, 900000, n)\n",
    "\n",
    "x_train=x[x < 200]\n",
    "x_test=x[x >= 200]\n",
    "\n",
    "y_train= y_obs[x < 200]\n",
    "y_test=y_obs[x >= 200]\n",
    "\n",
    "n_train=len(x_train)\n",
    "n_test=len(x_test)"
   ]
  },
  {
   "cell_type": "code",
   "execution_count": 30,
   "metadata": {},
   "outputs": [],
   "source": [
    "#1.3.2\n",
    "X=matrix(x_train)\n",
    "X2=matrix(x_test)\n",
    "λ=0\n",
    "theta= R2(X,λ,y_train)"
   ]
  },
  {
   "cell_type": "code",
   "execution_count": 31,
   "metadata": {},
   "outputs": [],
   "source": [
    "y_pred_train=theta[0]+ theta[1] * x_train + theta[2] *x_train**2 + theta[3]*(x_train**3) + theta[4]*(x_train**4) + theta[5]*(x_train**5) + theta[6]*(x_train**6)"
   ]
  },
  {
   "cell_type": "code",
   "execution_count": 32,
   "metadata": {},
   "outputs": [],
   "source": [
    "y_pred_test=theta[0]+ theta[1] * x_test + theta[2] *x_test**2 + theta[3]*(x_test**3) + theta[4]*(x_test**4) + theta[5]*(x_test**5) + theta[6]*(x_test**6)"
   ]
  },
  {
   "cell_type": "code",
   "execution_count": 33,
   "metadata": {},
   "outputs": [],
   "source": [
    "lambdas= [0,0.5,10,30,50,80,100,200]"
   ]
  },
  {
   "cell_type": "code",
   "execution_count": 51,
   "metadata": {},
   "outputs": [],
   "source": [
    "a=[]\n",
    "b=[]\n",
    "\n",
    "for λ in lambdas:\n",
    "    theta=np.linalg.inv(X.T.dot(X)+ λ*I).dot(X.T).dot(y_train)\n",
    "    a.append(np.mean((y_train- X.dot(theta))**2))\n",
    "    b.append(np.mean((y_test- X2.dot(theta))**2))"
   ]
  },
  {
   "cell_type": "code",
   "execution_count": 61,
   "metadata": {},
   "outputs": [
    {
     "data": {
      "text/plain": [
       "array([[8.63965248e+11, 3.51882419e+15],\n",
       "       [8.63965535e+11, 3.55309073e+15],\n",
       "       [8.64057461e+11, 4.15867677e+15],\n",
       "       [8.64525054e+11, 5.19218610e+15],\n",
       "       [8.65084503e+11, 5.98031745e+15],\n",
       "       [8.65867155e+11, 6.85639100e+15],\n",
       "       [8.66319481e+11, 7.30141170e+15],\n",
       "       [8.67886445e+11, 8.65708576e+15]])"
      ]
     },
     "execution_count": 61,
     "metadata": {},
     "output_type": "execute_result"
    }
   ],
   "source": [
    "MSE=np.c_[a,b]\n",
    "MSE"
   ]
  },
  {
   "cell_type": "code",
   "execution_count": 77,
   "metadata": {},
   "outputs": [
    {
     "name": "stdout",
     "output_type": "stream",
     "text": [
      "1\n",
      "1\n",
      "1\n",
      "1\n",
      "1\n",
      "1\n",
      "1\n",
      "1\n"
     ]
    }
   ],
   "source": [
    "\n",
    "for i in MSE:\n",
    "    maximum=np.argmax(i)\n",
    "    print(maximum)\n"
   ]
  },
  {
   "cell_type": "code",
   "execution_count": 80,
   "metadata": {},
   "outputs": [
    {
     "data": {
      "text/plain": [
       "0"
      ]
     },
     "execution_count": 80,
     "metadata": {},
     "output_type": "execute_result"
    }
   ],
   "source": [
    "lambdas[np.argmin(maximum) ]# lambda for the MIN-MAX of MSEs"
   ]
  },
  {
   "cell_type": "code",
   "execution_count": 79,
   "metadata": {},
   "outputs": [
    {
     "data": {
      "image/png": "[encoded data removed]",
      "text/plain": [
       "<Figure size 432x288 with 1 Axes>"
      ]
     },
     "metadata": {},
     "output_type": "display_data"
    }
   ],
   "source": [
    "1.4\n",
    "plt.plot(lambdas,MSE)\n",
    "plt.show()"
   ]
  },
  {
   "cell_type": "code",
   "execution_count": null,
   "metadata": {},
   "outputs": [],
   "source": []
  }
 ],
 "metadata": {
  "kernelspec": {
   "display_name": "Python 3",
   "language": "python",
   "name": "python3"
  },
  "language_info": {
   "codemirror_mode": {
    "name": "ipython",
    "version": 3
   },
   "file_extension": ".py",
   "mimetype": "text/x-python",
   "name": "python",
   "nbconvert_exporter": "python",
   "pygments_lexer": "ipython3",
   "version": "3.6.5"
  }
 },
 "nbformat": 4,
 "nbformat_minor": 2
}
